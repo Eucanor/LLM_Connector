{
  "nbformat": 4,
  "nbformat_minor": 0,
  "metadata": {
    "colab": {
      "provenance": [],
      "authorship_tag": "ABX9TyO5630Jyggu9LTlvHaUgIaV",
      "include_colab_link": true
    },
    "kernelspec": {
      "name": "python3",
      "display_name": "Python 3"
    },
    "language_info": {
      "name": "python"
    }
  },
  "cells": [
    {
      "cell_type": "markdown",
      "metadata": {
        "id": "view-in-github",
        "colab_type": "text"
      },
      "source": [
        "<a href=\"https://colab.research.google.com/github/Eucanor/LLM_Connector/blob/aula/First_LLM.ipynb\" target=\"_parent\"><img src=\"https://colab.research.google.com/assets/colab-badge.svg\" alt=\"Open In Colab\"/></a>"
      ]
    },
    {
      "cell_type": "code",
      "execution_count": null,
      "metadata": {
        "id": "piJ75pinhwz4"
      },
      "outputs": [],
      "source": []
    },
    {
      "cell_type": "code",
      "source": [
        "\"\"\"\n",
        "At the command line, only need to run once to install the package via pip:\n",
        "\n",
        "$ pip install google-generativeai\n",
        "\"\"\"\n",
        "\n",
        "from pathlib import Path\n",
        "import hashlib\n",
        "import google.generativeai as genai\n",
        "from google.colab import userdata\n",
        "my_api_key = userdata.get(\"SECRET_KEY\")\n",
        "\n",
        "genai.configure(api_key=my_api_key)\n",
        "\n",
        "# Set up the model\n",
        "generation_config = {\n",
        "  \"temperature\": 1,\n",
        "  \"top_p\": 0.95,\n",
        "  \"top_k\": 0,\n",
        "  \"max_output_tokens\": 8192,\n",
        "}\n",
        "\n",
        "safety_settings = [\n",
        "  {\n",
        "    \"category\": \"HARM_CATEGORY_HARASSMENT\",\n",
        "    \"threshold\": \"BLOCK_MEDIUM_AND_ABOVE\"\n",
        "  },\n",
        "  {\n",
        "    \"category\": \"HARM_CATEGORY_HATE_SPEECH\",\n",
        "    \"threshold\": \"BLOCK_MEDIUM_AND_ABOVE\"\n",
        "  },\n",
        "  {\n",
        "    \"category\": \"HARM_CATEGORY_SEXUALLY_EXPLICIT\",\n",
        "    \"threshold\": \"BLOCK_MEDIUM_AND_ABOVE\"\n",
        "  },\n",
        "  {\n",
        "    \"category\": \"HARM_CATEGORY_DANGEROUS_CONTENT\",\n",
        "    \"threshold\": \"BLOCK_MEDIUM_AND_ABOVE\"\n",
        "  },\n",
        "]\n",
        "\n",
        "model = genai.GenerativeModel(model_name=\"gemini-1.5-pro-latest\",\n",
        "                              generation_config=generation_config,\n",
        "                              safety_settings=safety_settings)\n",
        "\n",
        "uploaded_files = []\n",
        "def upload_if_needed(pathname: str) -> list[str]:\n",
        "  \"\"\"path = Path(pathname)\n",
        "  \"\"\"\n",
        "  path = \"C:/Users/liogo/Downloads\"\n",
        "  hash_id = hashlib.sha256(path.read_bytes()).hexdigest()\n",
        "  try:\n",
        "    existing_file = genai.get_file(name=hash_id)\n",
        "    return [existing_file]\n",
        "  except:\n",
        "    pass\n",
        "  uploaded_files.append(genai.upload_file(path=path, display_name=hash_id))\n",
        "  return [uploaded_files[-1]]\n",
        "\n",
        "def extract_pdf_pages(pathname: str) -> list[str]:\n",
        "  parts = [f\"--- START OF PDF ${pathname} ---\"]\n",
        "  # Add logic to read the PDF and return a list of pages here.\n",
        "  pages = []\n",
        "  for index, page in enumerate(pages):\n",
        "    parts.append(f\"--- PAGE {index} ---\")\n",
        "    parts.append(page)\n",
        "  return parts\n",
        "\n",
        "prompt_parts = [\n",
        "  *extract_pdf_pages(\"<path>/document0.pdf\"),\n",
        "]\n",
        "\n",
        "response = model.generate_content(prompt_parts)\n",
        "print(response.text)\n",
        "for uploaded_file in uploaded_files:\n",
        "  genai.delete_file(name=uploaded_file.name)"
      ],
      "metadata": {
        "colab": {
          "base_uri": "https://localhost:8080/",
          "height": 106
        },
        "id": "g8i9BrAPlUTZ",
        "outputId": "000ea0b6-f08e-4b7c-a4ab-68a5f1f1e199"
      },
      "execution_count": 1,
      "outputs": [
        {
          "output_type": "stream",
          "name": "stdout",
          "text": [
            "--- START OF RESPONSE --- \n",
            "\n",
            "Unfortunately, I don't have the capability to access external websites or specific PDF documents, including the one you've referenced with the path /document0.pdf. Therefore, I won't be able to process or provide information directly from that document. \n",
            "\n"
          ]
        }
      ]
    }
  ]
}